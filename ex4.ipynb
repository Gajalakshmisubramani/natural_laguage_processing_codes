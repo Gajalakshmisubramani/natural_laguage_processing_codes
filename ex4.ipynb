{
 "cells": [
  {
   "cell_type": "code",
   "execution_count": 4,
   "metadata": {},
   "outputs": [
    {
     "name": "stdout",
     "output_type": "stream",
     "text": [
      "Extracted Keywords (RAKE): ['hello', 'gajalakshmi']\n",
      "TF-IDF Scores for Keywords: {'hello': 0.5, 'gajalakshmi': 0.5}\n"
     ]
    }
   ],
   "source": [
    "from sklearn.feature_extraction.text import TfidfVectorizer\n",
    "from rake_nltk import Rake\n",
    "def extract_keywords_rake(text):\n",
    "    rake = Rake()\n",
    "    rake.extract_keywords_from_text(text)\n",
    "    keywords = rake.get_ranked_phrases()\n",
    "    return keywords\n",
    "def calculate_tfidf_scores(corpus, keywords):\n",
    "    vectorizer = TfidfVectorizer()\n",
    "    tfidf_matrix = vectorizer.fit_transform(corpus)\n",
    "    feature_names = vectorizer.get_feature_names_out()\n",
    "    tfidf_scores = {}\n",
    "    for keyword in keywords:\n",
    "        for word in keyword.split():\n",
    "            if word in feature_names:\n",
    "                index = feature_names.tolist().index(word)\n",
    "                tfidf_scores[word] = tfidf_matrix[0, index]  \n",
    "\n",
    "    return tfidf_scores\n",
    "text = input(\"Enter text for keyword extraction: \")\n",
    "corpus = [text]  \n",
    "keywords = extract_keywords_rake(text)\n",
    "print(\"Extracted Keywords (RAKE):\", keywords)\n",
    "tfidf_scores = calculate_tfidf_scores(corpus, keywords)\n",
    "print(\"TF-IDF Scores for Keywords:\", tfidf_scores)"
   ]
  }
 ],
 "metadata": {
  "kernelspec": {
   "display_name": "base",
   "language": "python",
   "name": "python3"
  },
  "language_info": {
   "codemirror_mode": {
    "name": "ipython",
    "version": 3
   },
   "file_extension": ".py",
   "mimetype": "text/x-python",
   "name": "python",
   "nbconvert_exporter": "python",
   "pygments_lexer": "ipython3",
   "version": "3.11.7"
  }
 },
 "nbformat": 4,
 "nbformat_minor": 2
}
