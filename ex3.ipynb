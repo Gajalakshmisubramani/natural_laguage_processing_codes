{
 "cells": [
  {
   "cell_type": "code",
   "execution_count": 3,
   "metadata": {},
   "outputs": [
    {
     "name": "stdout",
     "output_type": "stream",
     "text": [
      "I love this product!\n",
      "Positive\n",
      "              precision    recall  f1-score   support\n",
      "\n",
      "    Positive       0.50      1.00      0.67         2\n",
      "    Negative       0.00      0.00      0.00         2\n",
      "     Neutral       1.00      1.00      1.00         2\n",
      "\n",
      "    accuracy                           0.67         6\n",
      "   macro avg       0.50      0.67      0.56         6\n",
      "weighted avg       0.50      0.67      0.56         6\n",
      "\n"
     ]
    },
    {
     "name": "stderr",
     "output_type": "stream",
     "text": [
      "c:\\Users\\gajalakshmi\\anaconda3\\Lib\\site-packages\\sklearn\\metrics\\_classification.py:1344: UndefinedMetricWarning: Precision and F-score are ill-defined and being set to 0.0 in labels with no predicted samples. Use `zero_division` parameter to control this behavior.\n",
      "  _warn_prf(average, modifier, msg_start, len(result))\n",
      "c:\\Users\\gajalakshmi\\anaconda3\\Lib\\site-packages\\sklearn\\metrics\\_classification.py:1344: UndefinedMetricWarning: Precision and F-score are ill-defined and being set to 0.0 in labels with no predicted samples. Use `zero_division` parameter to control this behavior.\n",
      "  _warn_prf(average, modifier, msg_start, len(result))\n",
      "c:\\Users\\gajalakshmi\\anaconda3\\Lib\\site-packages\\sklearn\\metrics\\_classification.py:1344: UndefinedMetricWarning: Precision and F-score are ill-defined and being set to 0.0 in labels with no predicted samples. Use `zero_division` parameter to control this behavior.\n",
      "  _warn_prf(average, modifier, msg_start, len(result))\n"
     ]
    }
   ],
   "source": [
    "from vaderSentiment.vaderSentiment import SentimentIntensityAnalyzer\n",
    "from sklearn.metrics import classification_report\n",
    "\n",
    "# Initialize the VADER sentiment analyzer\n",
    "analyzer = SentimentIntensityAnalyzer()\n",
    "\n",
    "# Function to analyze sentiment\n",
    "def analyze_sentiment(text):\n",
    "    sentiment_scores = analyzer.polarity_scores(text)\n",
    "    compound_score = sentiment_scores['compound']\n",
    "    \n",
    "    if compound_score >= 0.05:\n",
    "        return \"Positive\"\n",
    "    elif compound_score <= -0.05:\n",
    "        return \"Negative\"\n",
    "    else:\n",
    "        return \"Neutral\"\n",
    "\n",
    "# Example labeled data (sentences and their true sentiments)\n",
    "test_sentences = [\n",
    "    \"I love this product!\",         # Positive\n",
    "    \"This is the worst experience.\", # Negative\n",
    "    \"I am not sure how I feel.\",     # Neutral\n",
    "    \"Amazing quality and service!\",  # Positive\n",
    "    \"Not happy with the results.\",   # Negative\n",
    "    \"It's okay, nothing special.\"    # Neutral\n",
    "]\n",
    "true_labels = [\"Positive\", \"Negative\", \"Neutral\", \"Positive\", \"Negative\", \"Neutral\"]\n",
    "\n",
    "# Predict sentiments for the test data\n",
    "predicted_labels = [analyze_sentiment(sentence) for sentence in test_sentences]\n",
    "print(test_sentences[0])\n",
    "print(predicted_labels[0])\n",
    "\n",
    "# Generate and print the classification report\n",
    "print(classification_report(true_labels, predicted_labels, target_names=[\"Positive\", \"Negative\", \"Neutral\"]))\n"
   ]
  }
 ],
 "metadata": {
  "kernelspec": {
   "display_name": "base",
   "language": "python",
   "name": "python3"
  },
  "language_info": {
   "codemirror_mode": {
    "name": "ipython",
    "version": 3
   },
   "file_extension": ".py",
   "mimetype": "text/x-python",
   "name": "python",
   "nbconvert_exporter": "python",
   "pygments_lexer": "ipython3",
   "version": "3.11.7"
  }
 },
 "nbformat": 4,
 "nbformat_minor": 2
}
